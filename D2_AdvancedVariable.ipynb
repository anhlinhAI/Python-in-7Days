{
  "nbformat": 4,
  "nbformat_minor": 0,
  "metadata": {
    "colab": {
      "provenance": []
    },
    "kernelspec": {
      "name": "python3",
      "display_name": "Python 3"
    },
    "language_info": {
      "name": "python"
    }
  },
  "cells": [
    {
      "cell_type": "code",
      "execution_count": null,
      "metadata": {
        "id": "csc4GN9O9kIN",
        "colab": {
          "base_uri": "https://localhost:8080/"
        },
        "outputId": "f58f96a9-8830-4109-9a95-01da2215f6e3"
      },
      "outputs": [
        {
          "output_type": "stream",
          "name": "stdout",
          "text": [
            "['banana', 'apple', 'melon']\n",
            "melon\n",
            "['apple', 'melon']\n",
            "banana\n",
            "['durian', 'jackfruit', 'kiwi', 'lychee', 'peach']\n"
          ]
        }
      ],
      "source": [
        "#list - danh sách\n",
        "\n",
        "#tạo list\n",
        "fruits = ['banana','apple','melon']\n",
        "\n",
        "#truy vấn list\n",
        "print(fruits) #in toàn bộ\n",
        "print(fruits[2]) #in 1 phần tử\n",
        "print(fruits[1:3]) #in nhiều phần tử\n",
        "print(fruits[-3]) #in 1 phần tử bằng index âm\n",
        "\n",
        "#các thao tác liên quan đến list\n",
        "#thêm\n",
        "fruits.append('kiwi') #thêm 1 phần tử\n",
        "fruits.extend(['lemon','jackfruit']) #thêm nhiều phần tử\n",
        "fruits.insert(15,'durian')\n",
        "\n",
        "#sửa\n",
        "fruits[1] = 'tomato'\n",
        "fruits[0:2] = ['lychee','peach']\n",
        "\n",
        "#xoá\n",
        "fruits.remove('lemon') #xoá bằng giá trị\n",
        "fruits.pop(2) #xoá bằng index\n",
        "\n",
        "#xoá cả list - fruits.clear()\n",
        "\n",
        "#sắp xếp list\n",
        "fruits.sort() #sắp xếp theo bảng chữ cái -> tăng dần\n",
        "fruits.sort(reverse = True) #giảm dần\n",
        "\n",
        "print(fruits)"
      ]
    },
    {
      "cell_type": "markdown",
      "source": [
        "\n",
        "Bài thực hành 1:\n",
        "1. Tạo một danh sách tên animals chứa 4 con vật bất kỳ\n",
        "2. In 1 con vật bằng index dương\n",
        "3. In 1 con vật bằng index âm\n",
        "4. In 3 con vật đầu tiên bằng index\n",
        "5. In ra độ dài của list\n",
        "\n",
        "\n",
        "Bài thực hành 2:\n",
        "1. Thêm 1 con vật bất kỳ\n",
        "2. Thêm 1 con vào vị trí 3\n",
        "3. Thêm 3 con vật 1 lúc\n",
        "4. Sửa 1 con vật\n",
        "5. Đổi 3 con vật thành con khác\n",
        "\n",
        "Bài thực hành 3:\n",
        "1. Xoá 1 giá trị\n",
        "2. Xoá 1 con bằng index\n",
        "3. Sắp xếp list theo thứ tự tăng dần\n",
        "4. Sắp xếp list theo thứ tự giảm dần"
      ],
      "metadata": {
        "id": "muPKRXmGD2nL"
      }
    },
    {
      "cell_type": "markdown",
      "source": [
        "Lưu ý:\n",
        "1. khi đặt tên: khuyến khích tên biến thể hiện nội dung giá trị của biến -> thuận tiện cho sử dụng\n",
        "2. phần tử của list cho phép được trùng (duplicate)\n",
        "3. list nó index bắt đầu từ 0 tử trái sang\n",
        "4. list nó index bắt đầu từ -1 tử phải sang\n",
        "5. cho phép list chứa bất kể thứ gì, nhưng mà khuyến khích lưu một dạng biến để dễ quản lý"
      ],
      "metadata": {
        "id": "OFvCD87__aaD"
      }
    },
    {
      "cell_type": "code",
      "source": [
        "#Tình huống\n",
        "#Mình có một danh sách chứa tên các bạn học sinh và ban đầu chứa 3 bạn\n",
        "#1. Cho người dùng nhập 1 số index để tìm người đó\n",
        "#2. Cho người dùng nhập 1 tên và thêm vào danh sách\n",
        "#3. In danh sách ra\n",
        "\n",
        "students = ['An','Bình','Cường']\n",
        "number = int(input('Mời nhập 1 số: ')) #kiểu dữ liệu mặc định của hàm input là str\n",
        "print('Học sinh tại thứ tự đó là: ',students[number])\n",
        "name = input('Mời nhập 1 tên để thêm: ')\n",
        "students.append(name)\n",
        "print(students)"
      ],
      "metadata": {
        "colab": {
          "base_uri": "https://localhost:8080/"
        },
        "id": "lv_sKv_wKiHN",
        "outputId": "c616af94-03dc-4bf6-e81c-12fef96750fd"
      },
      "execution_count": null,
      "outputs": [
        {
          "name": "stdout",
          "output_type": "stream",
          "text": [
            "Mời nhập 1 số: 1\n",
            "Học sinh tại thứ tự đó là:  Bình\n",
            "Mời nhập 1 tên: Khang\n"
          ]
        }
      ]
    },
    {
      "cell_type": "code",
      "source": [
        "#tuple - một dạng khác của list - không thể thay đổi\n",
        "animals = ('cat','dog', 'cat')\n",
        "\n",
        "#set - loại bỏ đi phần tử trùng lặp\n",
        "print(set(animals))"
      ],
      "metadata": {
        "colab": {
          "base_uri": "https://localhost:8080/"
        },
        "id": "Y8p25DmKYKu5",
        "outputId": "a5328a66-ee55-483f-b8b5-2c6637cc3eea"
      },
      "execution_count": null,
      "outputs": [
        {
          "output_type": "stream",
          "name": "stdout",
          "text": [
            "{'cat', 'dog'}\n"
          ]
        }
      ]
    },
    {
      "cell_type": "code",
      "source": [
        "#dictionary là kiểu dữ liệu chứa các phần tử cách nhau bởi dấu phẩy và nằm trong cặp {}\n",
        "#Các phần tử bao gồm 2 thành phần là: key (từ khoá) và value (giá trị) cách nhau bởi dấu :\n",
        "#Không tồn tại index trong dictionary\n",
        "\n",
        "#tạo\n",
        "student1 = {'name':'Khánh An', 'age':15, 'grade': 11}\n",
        "\n",
        "#thêm nhiều phần tử -> ghép dictionary\n",
        "student_bosung = {'hobby':'gaming', 'gender':'female'}\n",
        "print(student_bosung)\n",
        "print(student1)\n",
        "print(student1.update({'hobby':'gaming', 'gender':'female'}))\n",
        "\n",
        "#in\n",
        "print(student1)\n",
        "print(student1['name'])\n",
        "\n",
        "#sửa\n",
        "student1['age'] = 16\n",
        "\n",
        "#thêm\n",
        "student1['province'] = 'Hưng Yên'\n",
        "\n",
        "#xoá\n",
        "student1.pop('grade') #xoá 1 phần tử\n",
        "student1.popitem() #xoá đi phần tử được thêm vào cuối cùng\n",
        "\n"
      ],
      "metadata": {
        "colab": {
          "base_uri": "https://localhost:8080/"
        },
        "id": "nRNhzxR0Z5vE",
        "outputId": "a9ab0c5e-a847-415e-be30-64d080fb4668"
      },
      "execution_count": null,
      "outputs": [
        {
          "output_type": "stream",
          "name": "stdout",
          "text": [
            "{'hobby': 'gaming', 'gender': 'female'}\n",
            "{'name': 'Khánh An', 'age': 15, 'grade': 11}\n",
            "None\n",
            "{'name': 'Khánh An', 'age': 15, 'grade': 11, 'hobby': 'gaming', 'gender': 'female'}\n",
            "Khánh An\n"
          ]
        },
        {
          "output_type": "execute_result",
          "data": {
            "text/plain": [
              "('province', 'Hưng Yên')"
            ]
          },
          "metadata": {},
          "execution_count": 35
        }
      ]
    },
    {
      "cell_type": "code",
      "source": [],
      "metadata": {
        "id": "YNRnRd7Ehehu"
      },
      "execution_count": null,
      "outputs": []
    },
    {
      "cell_type": "markdown",
      "source": [
        "Bài thực hành 4:\n",
        "1. Tạo dictionary tên person chứa thông tin cơ bản (tên, tuổi, quê quán, năm sinh, giới tính) của một người mình yêu thích\n",
        "2. In ra một value bất kỳ\n",
        "3. Sửa một thông tin bất kỳ\n",
        "4. Thêm một thông tin bất kỳ\n",
        "5. Xoá một thông tin bất kỳ\n",
        "\n",
        "Bài thực hành 5:\n",
        "1. Thêm 1 lượt 3 phần tử nữa, in ra\n",
        "2. Xoá một thông tin bất kỳ"
      ],
      "metadata": {
        "id": "YPm_71aIbUke"
      }
    }
  ]
}