{
  "nbformat": 4,
  "nbformat_minor": 0,
  "metadata": {
    "colab": {
      "provenance": []
    },
    "kernelspec": {
      "name": "python3",
      "display_name": "Python 3"
    },
    "language_info": {
      "name": "python"
    }
  },
  "cells": [
    {
      "cell_type": "markdown",
      "source": [
        "Mệnh đề if aka cấu trúc rẻ nhánh\n",
        "\n",
        "nếu + điều kiện:\n",
        "  \n",
        "    mệnh đề đúng\n",
        "else:\n",
        "  \n",
        "    mệnh đề sai\n",
        "\n",
        "Dùng Indentation để phân cách các mệnh đề với nhau\n",
        "\n",
        "Các so sánh\n",
        "\n",
        "*   Equals: a == b\n",
        "*   Not Equals: a != b\n",
        "*   Less than: a < b\n",
        "*   Less than or equal to: a <= b\n",
        "*   Greater than: a > b\n",
        "*   Greater than or equal to: a >= b\n",
        "\n",
        "\n"
      ],
      "metadata": {
        "id": "JWzI1VFoDFty"
      }
    },
    {
      "cell_type": "code",
      "execution_count": null,
      "metadata": {
        "colab": {
          "base_uri": "https://localhost:8080/"
        },
        "id": "6_zUqox1Cspv",
        "outputId": "d9d21fa4-6ec3-4420-933b-2279e4fd5960"
      },
      "outputs": [
        {
          "output_type": "stream",
          "name": "stdout",
          "text": [
            "Mệnh đề đúng\n"
          ]
        }
      ],
      "source": [
        "a = 30\n",
        "b = 60\n",
        "if a<b:\n",
        "  print(\"a bé hơn b\")\n",
        "elif a<b:\n",
        "  print(\"a lớn hơn b\")\n",
        "else:\n",
        "  print(\"a bằng b\")\n",
        "\n",
        "'''\n",
        "Bài thực hành 1:\n",
        "1. Nhập số từ bàn phím bằng hàm input\n",
        "2. Kiểm tra xem số đó là âm hay dương bằng mệnh đề if\n",
        "'''"
      ]
    },
    {
      "cell_type": "code",
      "source": [
        "#if trên một dòng\n",
        "x= 60\n",
        "y = 30\n",
        "print(\"x\") if x > y else print(\"=\") if x == y else print(\"y\")\n",
        "\n",
        "'''\n",
        "Bài thực hành 2\n",
        "1. tạo 1 biến số bất kỳ\n",
        "2. kiểm tra là chẵn hay lẻ hay là số 0 bằng một code\n",
        "'''"
      ],
      "metadata": {
        "colab": {
          "base_uri": "https://localhost:8080/"
        },
        "id": "l3xH8GFlJGX2",
        "outputId": "778fb52f-8f5d-4364-e35d-874db2859281"
      },
      "execution_count": null,
      "outputs": [
        {
          "output_type": "stream",
          "name": "stdout",
          "text": [
            "x\n"
          ]
        }
      ]
    },
    {
      "cell_type": "code",
      "source": [
        "#kết hợp nhiều điều kiện: and, or, not\n",
        "a = 20\n",
        "b = 15\n",
        "c = 6\n",
        "if a>b or a>c and b<c or b<a or a<b and a<c:\n",
        "  print(\"điều kiện đúng\")\n",
        "else:\n",
        "  print('điều kiện trên sai')\n",
        "\n",
        "'''\n",
        "Bài thực hành 3:\n",
        "1. nhập input từ bàn phím điểm môn học toán và lỳ\n",
        "2. nếu điểm tb < 5 thì loại F\n",
        "3. ngược lại nếu điểm tb < 7 thì loại D\n",
        "4. ngược lại nếu điểm tb < 8 thì loại C\n",
        "5. ngược lại nếu điểm tb < 9 thì loại B\n",
        "6. ngược lại nếu điểm tb < 10 thì loại A\n",
        "'''"
      ],
      "metadata": {
        "colab": {
          "base_uri": "https://localhost:8080/",
          "height": 70
        },
        "id": "IrWsMSxPLQ3Y",
        "outputId": "1b03369d-24bd-4cd5-a60e-04b26e841cd1"
      },
      "execution_count": null,
      "outputs": [
        {
          "output_type": "stream",
          "name": "stdout",
          "text": [
            "điều kiện đúng\n"
          ]
        },
        {
          "output_type": "execute_result",
          "data": {
            "text/plain": [
              "'\\nBài thực hành 3:\\n1. nhập input từ bàn phím điểm môn học toán và lỳ\\n2. nếu điểm tb < 5 thì loại F\\n3. ngược lại nếu điểm tb < 7 thì loại D\\n4. ngược lại nếu điểm tb < 8 thì loại C\\n5. ngược lại nếu điểm tb < 9 thì loại B\\n6. ngược lại nếu điểm tb < 10 thì loại A\\n'"
            ],
            "application/vnd.google.colaboratory.intrinsic+json": {
              "type": "string"
            }
          },
          "metadata": {},
          "execution_count": 1
        }
      ]
    }
  ]
}