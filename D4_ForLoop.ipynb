{
  "nbformat": 4,
  "nbformat_minor": 0,
  "metadata": {
    "colab": {
      "provenance": []
    },
    "kernelspec": {
      "name": "python3",
      "display_name": "Python 3"
    },
    "language_info": {
      "name": "python"
    }
  },
  "cells": [
    {
      "cell_type": "markdown",
      "source": [
        "Loop là vòng lặp -> lặp lại một đoạn code nhiều lần\n",
        "\n",
        "2 loại vòng lặp trong Python: For loop và While loop\n",
        "\n",
        "For loop:\n",
        "\n",
        "- Lặp trong list, string, tuple,... (vì có iterater tự động)\n",
        "\n",
        "- Lặp trong range"
      ],
      "metadata": {
        "id": "VpbJjNkLSVsZ"
      }
    },
    {
      "cell_type": "code",
      "execution_count": null,
      "metadata": {
        "colab": {
          "base_uri": "https://localhost:8080/"
        },
        "id": "-Gd6uCmhSM6X",
        "outputId": "e79e94e8-f732-42f6-d1ae-707865b5ea73"
      },
      "outputs": [
        {
          "output_type": "stream",
          "name": "stdout",
          "text": [
            "1\n",
            "4\n",
            "7\n",
            "hello\n",
            "hello\n",
            "hello\n",
            "hello\n",
            "hello\n"
          ]
        }
      ],
      "source": [
        "#lặp trong range để in dãy số\n",
        "for i in range(1,10,3):\n",
        "  print(i)\n",
        "\n",
        "#quy định số lần lặp bằng range\n",
        "for x in range(5):\n",
        "  print('hello')"
      ]
    },
    {
      "cell_type": "markdown",
      "source": [
        "Bài thực hành 1 :\n",
        "1. In ra dãy số từ 0 đến 5\n",
        "2. In ra dãy số từ 13 đến 20\n",
        "3. In ra dãy số lẻ từ 0 đến 10\n",
        "4. In ra họ tên mình 5 lần\n",
        "\n",
        "Bài thực hành 2:\n",
        "1. Tạo một danh sách chứa các con vật, duyệt danh sách đó\n",
        "2. Tạo một chuỗi chứa tên mình và duyệt chuỗi đó\n",
        "\n",
        "Bài thực hành 3:\n",
        "1. Tạo một danh sách số gồm 6 số bất kỳ\n",
        "2. Tìm số nhỏ nhất\n",
        "3. Tìm tích của danh sách đó\n",
        "\n",
        "Bài thực hành 4:\n",
        "1. Tạo một danh sách số gồm 15 số bất kỳ\n",
        "2. Đếm số lượng các số hạng dương\n",
        "3. Tính trung bình cộng của cả danh sách\n",
        "4. Tính trung bình cộng các phần tử dương trong danh sách"
      ],
      "metadata": {
        "id": "E7UBU444VPbg"
      }
    },
    {
      "cell_type": "code",
      "source": [
        "#lặp trong chuối\n",
        "name = 'Đào Khánh An'\n",
        "for i in name: #tách ký tự của chuối\n",
        "  print(i)\n",
        "\n",
        "#lặp trong danh sách\n",
        "fruits = ['apple','mango']\n",
        "for i in fruits:\n",
        "  print(i)"
      ],
      "metadata": {
        "colab": {
          "base_uri": "https://localhost:8080/"
        },
        "id": "3Fx5peAYXjrs",
        "outputId": "e3525e2d-ac03-4d5a-a851-643c37c3cb5f"
      },
      "execution_count": null,
      "outputs": [
        {
          "output_type": "stream",
          "name": "stdout",
          "text": [
            "Đ\n",
            "à\n",
            "o\n",
            " \n",
            "K\n",
            "h\n",
            "á\n",
            "n\n",
            "h\n",
            " \n",
            "A\n",
            "n\n",
            "apple\n",
            "mango\n"
          ]
        }
      ]
    },
    {
      "cell_type": "code",
      "source": [
        "nums = [2, -4, 1, 9, -3, 6, 3, -2, 6, 8]\n",
        "#tính tổng\n",
        "s = 0\n",
        "for i in nums:\n",
        "  s = s + i\n",
        "print(\"Tổng là: \",s)\n",
        "\n",
        "#tìm số lớn nhất\n",
        "lon = 0\n",
        "for i in nums:\n",
        "  if i > lon:\n",
        "    lon = i\n",
        "print(\"Số lớn nhất là: \",lon)"
      ],
      "metadata": {
        "colab": {
          "base_uri": "https://localhost:8080/"
        },
        "id": "Y8NH-61BX4hH",
        "outputId": "79dd0986-5056-4e36-9b53-01ae058b27c1"
      },
      "execution_count": null,
      "outputs": [
        {
          "output_type": "stream",
          "name": "stdout",
          "text": [
            "Tổng là:  26\n"
          ]
        }
      ]
    }
  ]
}