{
  "nbformat": 4,
  "nbformat_minor": 0,
  "metadata": {
    "colab": {
      "provenance": []
    },
    "kernelspec": {
      "name": "python3",
      "display_name": "Python 3"
    },
    "language_info": {
      "name": "python"
    }
  },
  "cells": [
    {
      "cell_type": "code",
      "execution_count": null,
      "metadata": {
        "colab": {
          "base_uri": "https://localhost:8080/"
        },
        "id": "4eLCfCdHyykA",
        "outputId": "f29c03a8-642c-4077-aa32-342e9381c520"
      },
      "outputs": [
        {
          "output_type": "stream",
          "name": "stdout",
          "text": [
            "Hello world\n"
          ]
        }
      ],
      "source": [
        "print(\"Hello world\")"
      ]
    },
    {
      "cell_type": "code",
      "source": [
        "#Các kiểu dữ liệu có trong python:\n",
        "so_nguyen = 45 #int\n",
        "so_thuc = 4.5 #float\n",
        "chuoi = 'Khánh An' #str\n",
        "dung_sai = True #boolean"
      ],
      "metadata": {
        "id": "PLR9oqs8z60v"
      },
      "execution_count": null,
      "outputs": []
    },
    {
      "cell_type": "markdown",
      "source": [
        "Quy tắc đặt tên biến:\n",
        "1. Tên biến không được có khoảng trắng\n",
        "2. Tên biến không được bắt đầu bằng số\n",
        "\n",
        "Tại sao số thì không ở trong nháy mà chuỗi phải ở trong nháy?\n",
        "1. Để phân biệt"
      ],
      "metadata": {
        "id": "Vd-HBHFd0kML"
      }
    },
    {
      "cell_type": "code",
      "source": [
        "print(so_nguyen, so_thuc)\n",
        "print('Thông tin biến là: ',so_nguyen)"
      ],
      "metadata": {
        "colab": {
          "base_uri": "https://localhost:8080/"
        },
        "id": "0aP3dt041Q8_",
        "outputId": "ecd28535-bf30-4803-a095-6d52a5e6b02c"
      },
      "execution_count": null,
      "outputs": [
        {
          "output_type": "stream",
          "name": "stdout",
          "text": [
            "45 4.5\n",
            "Thông tin biến là:  45\n"
          ]
        }
      ]
    },
    {
      "cell_type": "code",
      "source": [
        "#Gắn nhiều giá trị cho nhiều biến\n",
        "x,y,z = \"Orange\",'Apple',\"Banana\"\n",
        "print(x,',',y,',',z)\n",
        "\n",
        "#Gắn một giá trị cho nhiều biến\n",
        "a = b = c = \"Cherry\"\n",
        "print(a,b,c)"
      ],
      "metadata": {
        "colab": {
          "base_uri": "https://localhost:8080/"
        },
        "id": "hzTBHorQ3qRV",
        "outputId": "99e4d531-2c8a-40b0-fd01-eaa87245a5a7"
      },
      "execution_count": null,
      "outputs": [
        {
          "output_type": "stream",
          "name": "stdout",
          "text": [
            "Orange , Apple , Banana\n",
            "Cherry Cherry Cherry\n"
          ]
        }
      ]
    },
    {
      "cell_type": "code",
      "source": [
        "x = \"Melon\" #đè giá trị lên giá trị cũ\n",
        "print(x)\n",
        "\n",
        "X = \"Jackfruit\" #chữ hoa và thường sẽ phân biệt với nhau\n",
        "print(x)"
      ],
      "metadata": {
        "colab": {
          "base_uri": "https://localhost:8080/"
        },
        "id": "j7RnxEkv5PlY",
        "outputId": "ab8d962c-224f-402e-c476-38989b8d5486"
      },
      "execution_count": null,
      "outputs": [
        {
          "output_type": "stream",
          "name": "stdout",
          "text": [
            "Melon\n",
            "Melon\n"
          ]
        }
      ]
    },
    {
      "cell_type": "code",
      "source": [
        "#kiểm tra kiểu dữ liệu -> type\n",
        "print(type(x))\n",
        "#Các kiểu số trong python sẽ không có giới hạn"
      ],
      "metadata": {
        "colab": {
          "base_uri": "https://localhost:8080/"
        },
        "id": "tAQ6Rgn-7ZDp",
        "outputId": "bb04ace4-b94d-4dbf-e873-35d58780017d"
      },
      "execution_count": null,
      "outputs": [
        {
          "output_type": "stream",
          "name": "stdout",
          "text": [
            "<class 'str'>\n"
          ]
        }
      ]
    },
    {
      "cell_type": "markdown",
      "source": [
        "Các phép toán trong Python:\n",
        "cộng +\n",
        "trừ -\n",
        "nhân *\n",
        "chia /\n",
        "phép chia lấy dư %\n",
        "phép chia lấy nguyên //\n",
        "mũ **\n"
      ],
      "metadata": {
        "id": "Zo9GYDnDBagn"
      }
    },
    {
      "cell_type": "code",
      "source": [
        "x = 30.5\n",
        "y = 6\n",
        "print(x+y)\n",
        "print(x-y)\n",
        "print(x*y)\n",
        "print(x/y) #trả về kết quả là kiểu số thực - float\n",
        "print(x%y)\n",
        "print(x//y)\n",
        "print(x**y)\n",
        "\n",
        "#khi tính toán số nguyên và số thực -> số thực"
      ],
      "metadata": {
        "colab": {
          "base_uri": "https://localhost:8080/"
        },
        "id": "S8ixd5d8BW-x",
        "outputId": "8f5c98d9-bceb-4781-b4bb-2689b5212cde"
      },
      "execution_count": null,
      "outputs": [
        {
          "output_type": "stream",
          "name": "stdout",
          "text": [
            "36.5\n",
            "24.5\n",
            "183.0\n",
            "5.083333333333333\n",
            "0.5\n",
            "5.0\n",
            "805005849.390625\n"
          ]
        }
      ]
    },
    {
      "cell_type": "code",
      "source": [
        "chuoi_nhieu_dong = '''Việc nhân nghĩa cốt ở yên dân\n",
        "Quân điếu phạt trước lo trừ bạo\n",
        "Như nước Đại Việt ta từ trước\n",
        "Vốn xưng nền văn hiến đã lâu'''\n",
        "print(chuoi_nhieu_dong)"
      ],
      "metadata": {
        "colab": {
          "base_uri": "https://localhost:8080/"
        },
        "id": "z7HmVW9vKs1q",
        "outputId": "f0b540e8-eb92-44df-d977-26b6a28800e0"
      },
      "execution_count": null,
      "outputs": [
        {
          "output_type": "stream",
          "name": "stdout",
          "text": [
            "Việc nhân nghĩa cốt ở yên dân\n",
            "Quân điếu phạt trước lo trừ bạo\n",
            "Như nước Đại Việt ta từ trước\n",
            "Vốn xưng nền văn hiến đã lâu\n"
          ]
        }
      ]
    },
    {
      "cell_type": "code",
      "source": [
        "tho_trang = 'Dịu dàng đàn những ánh tơ xanh,\\nCho gió du dương điệu múa cành,'\n",
        "print(tho_trang)"
      ],
      "metadata": {
        "colab": {
          "base_uri": "https://localhost:8080/"
        },
        "id": "ELeX8A0uLdHK",
        "outputId": "b0c3cc5d-3e8a-4bca-cbec-68ec564923d3"
      },
      "execution_count": null,
      "outputs": [
        {
          "output_type": "stream",
          "name": "stdout",
          "text": [
            "Dịu dàng đàn những ánh tơ xanh,\tCho gió du dương điệu múa cành,\n"
          ]
        }
      ]
    },
    {
      "cell_type": "code",
      "source": [
        "ho_ten = \"Đào Khánh An\"\n",
        "#kỹ thuật slicing\n",
        "print(ho_ten[0:3])\n"
      ],
      "metadata": {
        "colab": {
          "base_uri": "https://localhost:8080/"
        },
        "id": "4KnQ7IU4M1S6",
        "outputId": "34e6bdff-bc0d-4d39-f18c-5f3c23ac9850"
      },
      "execution_count": null,
      "outputs": [
        {
          "output_type": "stream",
          "name": "stdout",
          "text": [
            "Đào\n"
          ]
        }
      ]
    }
  ]
}