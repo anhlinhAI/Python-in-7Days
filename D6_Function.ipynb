{
  "nbformat": 4,
  "nbformat_minor": 0,
  "metadata": {
    "colab": {
      "provenance": []
    },
    "kernelspec": {
      "name": "python3",
      "display_name": "Python 3"
    },
    "language_info": {
      "name": "python"
    }
  },
  "cells": [
    {
      "cell_type": "code",
      "execution_count": null,
      "metadata": {
        "colab": {
          "base_uri": "https://localhost:8080/"
        },
        "id": "ju8vEGV-_ww-",
        "outputId": "29924cc7-deca-427a-abf1-12bc30a9a02c"
      },
      "outputs": [
        {
          "output_type": "stream",
          "name": "stdout",
          "text": [
            "30.5\n"
          ]
        },
        {
          "output_type": "execute_result",
          "data": {
            "text/plain": [
              "18.75"
            ]
          },
          "metadata": {},
          "execution_count": 6
        }
      ],
      "source": [
        "num1 = 12\n",
        "num2 = 34\n",
        "num3 = 42\n",
        "num4 = 34\n",
        "\n",
        "print((num1+num2+num3+num4)/4)\n",
        "#tạo hàm\n",
        "def averageOf4(num1,num2,num3,num4):\n",
        "  return (num1+num2+num3+num4)/4\n",
        "\n",
        "#sử dụng hàm\n",
        "a = 12\n",
        "b = 14\n",
        "c= 15\n",
        "d= 34\n",
        "print(\"Trung bình cộng là: \",averageOf4(23,43,2,3))\n",
        "averageOf4(a,b,c,d)"
      ]
    },
    {
      "cell_type": "markdown",
      "source": [
        "Hàm là một khối mã chỉ chạy khi nó được gọi.\n",
        "\n",
        "Bạn có thể truyền dữ liệu, được gọi là tham số, vào một hàm.\n",
        "\n",
        "Kết quả là một hàm có thể trả về dữ liệu.\n",
        "\n",
        "Bài thực hành 1:\n",
        "\n",
        "1. Nhập chiều rộng và chiều dài của một hình chữ nhật từ bàn phím\n",
        "2. Tạo hàm tính diện tích và chu vi\n",
        "3. Sử dụng hàm\n",
        "\n",
        "Bài thực hành 2:\n",
        "1. Tạo hàm có tham số mặc định là tên của mình\n",
        "2. Xử lý viết hoa họ, viết thường tên đệm, viết hoa chữ cái đầu tên(Ví dụ: ĐÀO khánh An)\n",
        "3. Sử dụng hàm"
      ],
      "metadata": {
        "id": "LtImqgdzBVSJ"
      }
    },
    {
      "cell_type": "code",
      "source": [
        "#tham số mặc định\n",
        "def country(country='Việt Nam'):\n",
        "  print(\"I am from \",country)\n",
        "#Nếu chúng ta gọi hàm mà không có tham số, nó sẽ sử dụng giá trị mặc định\n",
        "country()\n",
        "#Ngược lại, vẫn chạy tham số như bình thường\n",
        "country('USA')\n",
        "\n",
        "#hàm không có tham số\n",
        "def hello():\n",
        "  print(\"Hello world\")\n",
        "hello()\n",
        "\n",
        "#hàm trống\n",
        "def example():\n",
        "  pass\n",
        "\n",
        "name = 'Nguyễn Văn Bình'\n",
        "name = name.split() #tách chuỗi dưa vào dấu cách\n",
        "print(name[0].upper(),name[1].lower()) #viết hoa hết\n",
        "print(name[1].lower()) #viết thường hết\n",
        "print(name[2].capitalize()) #viết hoa chứ cái đầu"
      ],
      "metadata": {
        "colab": {
          "base_uri": "https://localhost:8080/"
        },
        "id": "ug-S3-fkGXJp",
        "outputId": "e60079a4-5864-4a20-9d61-4ecd71ffd4bc"
      },
      "execution_count": null,
      "outputs": [
        {
          "output_type": "stream",
          "name": "stdout",
          "text": [
            "I am from  Việt Nam\n",
            "I am from  USA\n",
            "Hello world\n",
            "NGUYỄN\n",
            "văn\n",
            "Bình\n"
          ]
        }
      ]
    },
    {
      "cell_type": "code",
      "source": [
        "#không biết trước được có bao nhiêu tham số\n",
        "def danhSachLopHoc(*student):\n",
        "  print(\"The second is:\",student[1])\n",
        "danhSachLopHoc('An','Bình','Châu')\n",
        "\n",
        "#dành cho dictionary\n",
        "def my_function(**kid):\n",
        "  print(\"His last name is \" , kid[\"lname\"])\n",
        "\n",
        "my_function(fname = \"Tobias\", lname = \"Refsnes\")"
      ],
      "metadata": {
        "colab": {
          "base_uri": "https://localhost:8080/"
        },
        "id": "tMcT6FT4RFDO",
        "outputId": "e295a65d-8957-4e90-e2a6-30cd991a589d"
      },
      "execution_count": null,
      "outputs": [
        {
          "output_type": "stream",
          "name": "stdout",
          "text": [
            "The second is: Bình\n",
            "His last name is Refsnes\n"
          ]
        }
      ]
    },
    {
      "cell_type": "markdown",
      "source": [
        "Hãy sử dụng hàm trong Python để viết chương trình tính điểm trung bình của học sinh và in kết qua ra màn hình console. Bắt buộc phải sử dụng hàm để giải bài này.\n",
        "\n",
        "Chi tiết chương trình như sau:\n",
        "\n",
        "- Nhập vào điểm các môn Toán, Lý, Hóa, Văn, Anh\n",
        "- Tính điểm trung bình dựa vào 5 môn đó.\n",
        "\n",
        "Nếu:\n",
        "\n",
        "- Điểm trung bình bé hơn 5 thì học lực yếu\n",
        "- Điểm trung bình từ 5 - 6.9 thì học lực trung bình\n",
        "- Điểm trung bình từ 7 - 8.9 là học lực khá\n",
        "- Điểm trung bình từ 9 - 10 là học lực giỏi"
      ],
      "metadata": {
        "id": "dQOQZetWSUt4"
      }
    }
  ]
}