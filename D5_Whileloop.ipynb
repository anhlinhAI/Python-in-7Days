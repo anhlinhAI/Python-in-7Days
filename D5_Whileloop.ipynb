{
  "nbformat": 4,
  "nbformat_minor": 0,
  "metadata": {
    "colab": {
      "provenance": []
    },
    "kernelspec": {
      "name": "python3",
      "display_name": "Python 3"
    },
    "language_info": {
      "name": "python"
    }
  },
  "cells": [
    {
      "cell_type": "markdown",
      "source": [
        "Các lý thuyết về While loop:\n",
        "\n",
        "- Cẩn thận với lặp mãi mãi (infinite loop)\n",
        "- Nó sẽ lặp khi điều kiện đúng\n",
        "\n",
        "Vậy khi nào dùng for khi nào while?\n",
        "\n",
        "- dùng for khi mình biết trước số lần lặp\n",
        "- và ngược lại"
      ],
      "metadata": {
        "id": "uq5aGwIo-DzX"
      }
    },
    {
      "cell_type": "code",
      "execution_count": null,
      "metadata": {
        "colab": {
          "base_uri": "https://localhost:8080/"
        },
        "id": "Y01cqnTB8pNn",
        "outputId": "bedd694d-4905-4634-a718-d9c9fb9b6932"
      },
      "outputs": [
        {
          "output_type": "stream",
          "name": "stdout",
          "text": [
            "1\n",
            "2\n",
            "3\n",
            "4\n",
            "5\n"
          ]
        }
      ],
      "source": [
        "x = 1\n",
        "while x<6:\n",
        "  print(x)\n",
        "  x = x + 1\n",
        "\n",
        "#Bài thực hành 1: in ra dãy số lẻ từ 3 đến 15 bằng while loop"
      ]
    },
    {
      "cell_type": "code",
      "source": [
        "#dừng vòng lặp\n",
        "x = 1\n",
        "while x<6:\n",
        "  print(x)\n",
        "  if x==4:\n",
        "    break\n",
        "  x = x + 1\n",
        "\n",
        "#can thiệp vòng lặp\n",
        "x = 1\n",
        "while x<6:\n",
        "  x = x +1\n",
        "  if x==4:\n",
        "    continue\n",
        "  print(x)"
      ],
      "metadata": {
        "colab": {
          "base_uri": "https://localhost:8080/"
        },
        "id": "4iAMX1rkAcT4",
        "outputId": "f78d03d4-be8a-464b-af39-49476e5f359b"
      },
      "execution_count": null,
      "outputs": [
        {
          "output_type": "stream",
          "name": "stdout",
          "text": [
            "1\n",
            "2\n",
            "3\n",
            "4\n"
          ]
        }
      ]
    },
    {
      "cell_type": "code",
      "source": [
        "#lặp trong danh sách -> cồng kềnh\n",
        "countries = [\"USA\", \"CHINA\", \"TURKEY\"]\n",
        "i = 0\n",
        "while i<len(countries):\n",
        "  print(countries[i], end=' ')\n",
        "  i = i + 1\n",
        "  if i == 2:\n",
        "    continue\n",
        "\n",
        "'''\n",
        "Bài thực hành 2:\n",
        "1. Tạo một danh sách chứa tên 5 người\n",
        "2. Dùng while loop in ra từng người\n",
        "3. Dùng while loop nhưng bỏ qua người thứ 4\n",
        "'''"
      ],
      "metadata": {
        "colab": {
          "base_uri": "https://localhost:8080/",
          "height": 53
        },
        "id": "3P1XrBQcA4O4",
        "outputId": "c50aec41-5da0-46c0-957a-e94bd6877647"
      },
      "execution_count": null,
      "outputs": [
        {
          "output_type": "stream",
          "name": "stdout",
          "text": [
            "USA CHINA TURKEY "
          ]
        },
        {
          "output_type": "execute_result",
          "data": {
            "text/plain": [
              "'\\nBài thực hành 2:\\n1. Tạo một danh sách chứa tên 5 người\\n2. Dùng while loop in ra từng người\\n3. Dùng while loop nhưng bỏ qua người thứ 4\\n'"
            ],
            "application/vnd.google.colaboratory.intrinsic+json": {
              "type": "string"
            }
          },
          "metadata": {},
          "execution_count": 13
        }
      ]
    },
    {
      "cell_type": "code",
      "source": [
        "#ứng dụng kiểm tra mật khẩu\n",
        "password = 'abc123'\n",
        "count = 0\n",
        "print(\"Welcome back! Enter exit if you don't remember password\")\n",
        "while True:\n",
        "  input_pass = input('Please enter your password: ')\n",
        "  if input_pass == password:\n",
        "    print('You entered the system!')\n",
        "    break\n",
        "  if count >= 3:\n",
        "    print('You entered the wrong pass 3 times! Block!')\n",
        "    break\n",
        "  if input_pass == 'exit':\n",
        "    print('See you again!')\n",
        "    break\n",
        "  print('Wrong! Try again!')\n",
        "  count = count + 1\n"
      ],
      "metadata": {
        "colab": {
          "base_uri": "https://localhost:8080/"
        },
        "id": "thgJWgH2Sy_F",
        "outputId": "84e7c2fb-f772-44cc-a272-47a3fc5562d9"
      },
      "execution_count": null,
      "outputs": [
        {
          "output_type": "stream",
          "name": "stdout",
          "text": [
            "Welcome back! Enter exit if you don't remember password\n",
            "Please enter your password: abc123\n",
            "Wrong! Try again!\n",
            "You entered the system!\n"
          ]
        }
      ]
    }
  ]
}