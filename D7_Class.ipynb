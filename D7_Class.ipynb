{
  "nbformat": 4,
  "nbformat_minor": 0,
  "metadata": {
    "colab": {
      "provenance": []
    },
    "kernelspec": {
      "name": "python3",
      "display_name": "Python 3"
    },
    "language_info": {
      "name": "python"
    }
  },
  "cells": [
    {
      "cell_type": "code",
      "execution_count": null,
      "metadata": {
        "colab": {
          "base_uri": "https://localhost:8080/"
        },
        "id": "DyWWtSVEOWUW",
        "outputId": "839f4640-9cac-4ad2-c944-e2e3f25f67ce"
      },
      "outputs": [
        {
          "output_type": "stream",
          "name": "stdout",
          "text": [
            "This is a red - sport bike.\n",
            "Số bánh xe:  2\n",
            "Kiểu xe: sport\n"
          ]
        }
      ],
      "source": [
        "#TRƯỜNG HỢP: TẠO CHƯƠNG TRÌNH QUẢN LÝ CHO MỘT CÔNG TY XE ĐẠP\n",
        "#tạo lớp\n",
        "class Bike:\n",
        "  #thuộc tính chung (class attribute)\n",
        "  wheels = 2\n",
        "  engine = False\n",
        "  #thuộc tính riêng (intance attribute)\n",
        "  def __init__(self, style, color, isCarried):\n",
        "    self.style = style\n",
        "    self.color = color\n",
        "    self.isCarried = isCarried\n",
        "  def __str__(self):\n",
        "    return f\"This is a {self.color} - {self.style} bike.\"\n",
        "\n",
        "#tạo đối tượng\n",
        "bike1 = Bike('sport','red',True)\n",
        "\n",
        "#in ra màn hình\n",
        "print(bike1) #in ra địa chỉ lưu trữ của đối tượng này -> nếu có hàm __str__ thì in thông tin trong hàm\n",
        "print('Số bánh xe: ',bike1.wheels)\n",
        "print('Kiểu xe:',bike1.style)\n"
      ]
    },
    {
      "cell_type": "markdown",
      "source": [
        "Python là một ngôn ngữ lập trình hướng đối tượng.\n",
        "\n",
        "Hầu hết mọi thứ trong Python đều là một đối tượng (objects), với các thuộc tính (attributes) và phương thức (methods) của nó.\n",
        "\n",
        "Lớp giống như một hàm tạo đối tượng hoặc \"bản thiết kế\" để tạo đối tượng.\n",
        "\n",
        "\n",
        "Bài thực hành 1:\n",
        "1. Tạo một lớp tên Car\n",
        "2. Tạo thuộc tính riêng và thuộc tính chung     \n",
        "3. Tạo đối tượng thuộc lớp đó\n",
        "4. In thuộc tính chung\n",
        "5. In thuộc tính riêng\n",
        "\n",
        "\n",
        "Bài thực hành 3:\n",
        "1. Tạo class tên Circle có 2 thuộc tính riêng là radius\n",
        "2. Tạo method tính diện tích\n",
        "3. Tạo method tính chu vi\n",
        "4. Tạo đối tượng và gọi hai method đó\n",
        "\n",
        "Bài thực hành 4:\n",
        "1. Tạo class cha là Plant có phương thức str in ra \"I am a plant\"\n",
        "2. Tạo class con của Plant là Tree không có gì\n",
        "3. Tạo class con của Plant có Flower có phương thức str in ra \"I am a flower\"\n",
        "4. Tạo đối tượng của 3 class và gọi hàm str\n",
        "\n",
        "Bài thực hành 5: Tạo hệ thống quản lý nhân viên\n",
        "1. Tạo class Employee có các thuộc tính riêng fullname, age, salary, hours\n",
        "2. Tạo method in thông tin nhân viên\n",
        "3. Tạo method tính tiền lương\n",
        "4. Nhập thông tin từ bàn phím\n",
        "5. Sử dụng 2 phương thức"
      ],
      "metadata": {
        "id": "lI7QpVpKOrmI"
      }
    },
    {
      "cell_type": "code",
      "source": [
        "class Square:\n",
        "  numbeOfSides = 4\n",
        "  def __init__(self,side):\n",
        "    self.side = side\n",
        "  #tự tạo phương thức cho lớp\n",
        "  def peri(self):\n",
        "    return self.side*4\n",
        "\n",
        "square1 = Square(5)\n",
        "print(\"Chu vi là: \",square1.peri())\n"
      ],
      "metadata": {
        "colab": {
          "base_uri": "https://localhost:8080/"
        },
        "id": "CmXktPslafYw",
        "outputId": "19e8f2c1-299e-443e-feed-757a28f5b1e6"
      },
      "execution_count": null,
      "outputs": [
        {
          "output_type": "stream",
          "name": "stdout",
          "text": [
            "Chu vi là:  20\n"
          ]
        }
      ]
    },
    {
      "cell_type": "code",
      "source": [
        "#KẾ THỪA - Inheritance\n",
        "\n",
        "#tạo lớp cha - parent class\n",
        "class Vehicle:\n",
        "  purpose = 'moving'\n",
        "  def __init__(self, color):\n",
        "    self.color = color\n",
        "  def __str__(self):\n",
        "    return \"This is a vehicle\"\n",
        "\n",
        "#tạo lớp con kế thừa lớp cha - children class\n",
        "class Car(Vehicle):\n",
        "  def __init__(self,color,brand):\n",
        "    super().__init__(color)\n",
        "    self.brand = brand\n",
        "  def __str__(self):\n",
        "    return \"This is a car\"\n",
        "\n",
        "class Bike(Vehicle):\n",
        "  pass\n",
        "\n",
        "v1 = Vehicle('red')\n",
        "c1 = Car('black','BMW')\n",
        "\n",
        "print(v1)\n",
        "print(c1)"
      ],
      "metadata": {
        "colab": {
          "base_uri": "https://localhost:8080/"
        },
        "id": "jyoNEDkyknF6",
        "outputId": "99bd1a64-539e-4a86-db7f-68adaf0dd0e3"
      },
      "execution_count": null,
      "outputs": [
        {
          "output_type": "stream",
          "name": "stdout",
          "text": [
            "This is a vehicle\n",
            "This is a car\n"
          ]
        }
      ]
    },
    {
      "cell_type": "code",
      "source": [
        "#HỆ THỐNG QUẢN LÝ SINH VIÊN\n",
        "class Student:\n",
        "  def __init__(self,fullname,grade,dob):\n",
        "    self.fullname = fullname\n",
        "    self.grade = grade\n",
        "    self.dob = dob\n",
        "  def printInfor(self):\n",
        "    print('This is information:')\n",
        "    print(self.fullname, '\\n', self.grade, '\\n',self.dob)\n",
        "\n",
        "fullname = input('Please enter your name: ')\n",
        "grade = input('Please enter your grade: ')\n",
        "dob = input('Please enter your birthday: ')\n",
        "s1 = Student(fullname,grade,dob)\n",
        "s1.printInfor()\n",
        "\n"
      ],
      "metadata": {
        "colab": {
          "base_uri": "https://localhost:8080/"
        },
        "id": "r4AQrJHrtICD",
        "outputId": "c226d0c0-2f1e-4eca-b884-5f28bb03272c"
      },
      "execution_count": null,
      "outputs": [
        {
          "output_type": "stream",
          "name": "stdout",
          "text": [
            "Please enter your name: Đào Khánh An\n",
            "Please enter your grade: 10\n",
            "Please enter your birthday: 8/10/2007\n",
            "This is information:\n",
            "Đào Khánh An \n",
            " 10 \n",
            " 8/10/2007\n"
          ]
        }
      ]
    }
  ]
}